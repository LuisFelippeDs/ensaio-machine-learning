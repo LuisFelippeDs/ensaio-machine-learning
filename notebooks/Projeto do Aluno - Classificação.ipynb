{
 "cells": [
  {
   "cell_type": "markdown",
   "id": "382fb02d",
   "metadata": {},
   "source": [
    "# Classificação"
   ]
  },
  {
   "cell_type": "code",
   "execution_count": 108,
   "id": "d9d8a0e7",
   "metadata": {},
   "outputs": [],
   "source": [
    "import numpy as np\n",
    "from sklearn import metrics as mt\n",
    "from sklearn.neighbors import KNeighborsClassifier\n",
    "import pandas as pd\n",
    "from sklearn import datasets as dt\n",
    "from matplotlib import pyplot as plt\n",
    "from sklearn.metrics import classification_report\n",
    "from scipy import stats\n",
    "import warnings"
   ]
  },
  {
   "cell_type": "code",
   "execution_count": 109,
   "id": "7ada03fc",
   "metadata": {},
   "outputs": [],
   "source": [
    "X_training = pd.read_csv('X_training.csv')\n",
    "y_training = pd.read_csv('y_training.csv')\n",
    "X_test = pd.read_csv('X_test.csv')\n",
    "y_test = pd.read_csv('y_test.csv')\n",
    "X_validation = pd.read_csv('X_validation.csv')\n",
    "y_validation = pd.read_csv('y_validation.csv')"
   ]
  },
  {
   "cell_type": "code",
   "execution_count": 110,
   "id": "1bcb1295",
   "metadata": {},
   "outputs": [],
   "source": [
    "features = ['id','customer_type', 'age', 'class','flight_distance','inflight_wifi_service',\n",
    "            'departure_arrival_time_convenient','departure_arrival_time_convenient', 'ease_of_online_booking',\n",
    "           'gate_location','food_and_drink','online_boarding', 'seat_comfort','inflight_entertainment',\n",
    "            'on_board_service','leg_room_service','baggage_handling','checkin_service','inflight_service',\n",
    "            'cleanliness','departure_delay_in_minutes', 'arrival_delay_in_minutes','gender_Female','gender_Male',\n",
    "            'type_of_travel_business_travel' ,'type_of_travel_personal_travel'\n",
    "           ]\n",
    "label = ['0']"
   ]
  },
  {
   "cell_type": "code",
   "execution_count": 111,
   "id": "694bc8e9",
   "metadata": {},
   "outputs": [],
   "source": [
    "# Preparação dos dados de treino\n",
    "X_trainingC = X_training.loc[:, features]\n",
    "y_training = y_training.loc[:,label].values.ravel()"
   ]
  },
  {
   "cell_type": "code",
   "execution_count": 112,
   "id": "a4076c3f",
   "metadata": {},
   "outputs": [],
   "source": [
    "X_testC = X_test.loc[:,features]\n",
    "y_test = y_test.loc[:,label].values.ravel()"
   ]
  },
  {
   "cell_type": "code",
   "execution_count": 113,
   "id": "1ba080ff",
   "metadata": {},
   "outputs": [],
   "source": [
    "X_validationC = X_validation.loc[:,features]\n",
    "y_validation = y_validation.loc[:,label].values.ravel()"
   ]
  },
  {
   "cell_type": "code",
   "execution_count": 114,
   "id": "d72139cf",
   "metadata": {},
   "outputs": [
    {
     "data": {
      "text/plain": [
       "array([1, 1, 0, ..., 1, 0, 0])"
      ]
     },
     "execution_count": 114,
     "metadata": {},
     "output_type": "execute_result"
    }
   ],
   "source": [
    "y_training"
   ]
  },
  {
   "cell_type": "code",
   "execution_count": 172,
   "id": "62f596cc",
   "metadata": {},
   "outputs": [
    {
     "data": {
      "text/html": [
       "<style>#sk-container-id-14 {color: black;background-color: white;}#sk-container-id-14 pre{padding: 0;}#sk-container-id-14 div.sk-toggleable {background-color: white;}#sk-container-id-14 label.sk-toggleable__label {cursor: pointer;display: block;width: 100%;margin-bottom: 0;padding: 0.3em;box-sizing: border-box;text-align: center;}#sk-container-id-14 label.sk-toggleable__label-arrow:before {content: \"▸\";float: left;margin-right: 0.25em;color: #696969;}#sk-container-id-14 label.sk-toggleable__label-arrow:hover:before {color: black;}#sk-container-id-14 div.sk-estimator:hover label.sk-toggleable__label-arrow:before {color: black;}#sk-container-id-14 div.sk-toggleable__content {max-height: 0;max-width: 0;overflow: hidden;text-align: left;background-color: #f0f8ff;}#sk-container-id-14 div.sk-toggleable__content pre {margin: 0.2em;color: black;border-radius: 0.25em;background-color: #f0f8ff;}#sk-container-id-14 input.sk-toggleable__control:checked~div.sk-toggleable__content {max-height: 200px;max-width: 100%;overflow: auto;}#sk-container-id-14 input.sk-toggleable__control:checked~label.sk-toggleable__label-arrow:before {content: \"▾\";}#sk-container-id-14 div.sk-estimator input.sk-toggleable__control:checked~label.sk-toggleable__label {background-color: #d4ebff;}#sk-container-id-14 div.sk-label input.sk-toggleable__control:checked~label.sk-toggleable__label {background-color: #d4ebff;}#sk-container-id-14 input.sk-hidden--visually {border: 0;clip: rect(1px 1px 1px 1px);clip: rect(1px, 1px, 1px, 1px);height: 1px;margin: -1px;overflow: hidden;padding: 0;position: absolute;width: 1px;}#sk-container-id-14 div.sk-estimator {font-family: monospace;background-color: #f0f8ff;border: 1px dotted black;border-radius: 0.25em;box-sizing: border-box;margin-bottom: 0.5em;}#sk-container-id-14 div.sk-estimator:hover {background-color: #d4ebff;}#sk-container-id-14 div.sk-parallel-item::after {content: \"\";width: 100%;border-bottom: 1px solid gray;flex-grow: 1;}#sk-container-id-14 div.sk-label:hover label.sk-toggleable__label {background-color: #d4ebff;}#sk-container-id-14 div.sk-serial::before {content: \"\";position: absolute;border-left: 1px solid gray;box-sizing: border-box;top: 0;bottom: 0;left: 50%;z-index: 0;}#sk-container-id-14 div.sk-serial {display: flex;flex-direction: column;align-items: center;background-color: white;padding-right: 0.2em;padding-left: 0.2em;position: relative;}#sk-container-id-14 div.sk-item {position: relative;z-index: 1;}#sk-container-id-14 div.sk-parallel {display: flex;align-items: stretch;justify-content: center;background-color: white;position: relative;}#sk-container-id-14 div.sk-item::before, #sk-container-id-14 div.sk-parallel-item::before {content: \"\";position: absolute;border-left: 1px solid gray;box-sizing: border-box;top: 0;bottom: 0;left: 50%;z-index: -1;}#sk-container-id-14 div.sk-parallel-item {display: flex;flex-direction: column;z-index: 1;position: relative;background-color: white;}#sk-container-id-14 div.sk-parallel-item:first-child::after {align-self: flex-end;width: 50%;}#sk-container-id-14 div.sk-parallel-item:last-child::after {align-self: flex-start;width: 50%;}#sk-container-id-14 div.sk-parallel-item:only-child::after {width: 0;}#sk-container-id-14 div.sk-dashed-wrapped {border: 1px dashed gray;margin: 0 0.4em 0.5em 0.4em;box-sizing: border-box;padding-bottom: 0.4em;background-color: white;}#sk-container-id-14 div.sk-label label {font-family: monospace;font-weight: bold;display: inline-block;line-height: 1.2em;}#sk-container-id-14 div.sk-label-container {text-align: center;}#sk-container-id-14 div.sk-container {/* jupyter's `normalize.less` sets `[hidden] { display: none; }` but bootstrap.min.css set `[hidden] { display: none !important; }` so we also need the `!important` here to be able to override the default hidden behavior on the sphinx rendered scikit-learn.org. See: https://github.com/scikit-learn/scikit-learn/issues/21755 */display: inline-block !important;position: relative;}#sk-container-id-14 div.sk-text-repr-fallback {display: none;}</style><div id=\"sk-container-id-14\" class=\"sk-top-container\"><div class=\"sk-text-repr-fallback\"><pre>KNeighborsClassifier(n_neighbors=1)</pre><b>In a Jupyter environment, please rerun this cell to show the HTML representation or trust the notebook. <br />On GitHub, the HTML representation is unable to render, please try loading this page with nbviewer.org.</b></div><div class=\"sk-container\" hidden><div class=\"sk-item\"><div class=\"sk-estimator sk-toggleable\"><input class=\"sk-toggleable__control sk-hidden--visually\" id=\"sk-estimator-id-14\" type=\"checkbox\" checked><label for=\"sk-estimator-id-14\" class=\"sk-toggleable__label sk-toggleable__label-arrow\">KNeighborsClassifier</label><div class=\"sk-toggleable__content\"><pre>KNeighborsClassifier(n_neighbors=1)</pre></div></div></div></div></div>"
      ],
      "text/plain": [
       "KNeighborsClassifier(n_neighbors=1)"
      ]
     },
     "execution_count": 172,
     "metadata": {},
     "output_type": "execute_result"
    }
   ],
   "source": [
    "knn_classifier = KNeighborsClassifier(n_neighbors=1)\n",
    "knn_classifier.fit(X_trainingC, y_training)"
   ]
  },
  {
   "cell_type": "code",
   "execution_count": 173,
   "id": "72f6a9a7",
   "metadata": {},
   "outputs": [],
   "source": [
    "def mode_modificada(a, axis=0):\n",
    "    return stats.mode(a, axis=axis, keepdims=True)"
   ]
  },
  {
   "cell_type": "code",
   "execution_count": 174,
   "id": "d32b4fa0",
   "metadata": {},
   "outputs": [],
   "source": [
    "y_pred = knn_classifier.predict(X_testC)"
   ]
  },
  {
   "cell_type": "code",
   "execution_count": 175,
   "id": "207adce0",
   "metadata": {},
   "outputs": [
    {
     "data": {
      "text/plain": [
       "array([[10292,  4236],\n",
       "       [ 4103,  7262]])"
      ]
     },
     "execution_count": 175,
     "metadata": {},
     "output_type": "execute_result"
    }
   ],
   "source": [
    "mt.confusion_matrix(y_test, y_pred)"
   ]
  },
  {
   "cell_type": "code",
   "execution_count": 179,
   "id": "8d3174fd",
   "metadata": {},
   "outputs": [
    {
     "data": {
      "text/plain": [
       "0.6779438458270575"
      ]
     },
     "execution_count": 179,
     "metadata": {},
     "output_type": "execute_result"
    }
   ],
   "source": [
    "mt.accuracy_score(y_test, y_pred)"
   ]
  },
  {
   "cell_type": "code",
   "execution_count": 171,
   "id": "2f875dd5",
   "metadata": {},
   "outputs": [
    {
     "data": {
      "text/plain": [
       "0.6107391537225495"
      ]
     },
     "execution_count": 171,
     "metadata": {},
     "output_type": "execute_result"
    }
   ],
   "source": [
    "mt.precision_score(y_test, y_pred)"
   ]
  },
  {
   "cell_type": "code",
   "execution_count": 144,
   "id": "2382f908",
   "metadata": {},
   "outputs": [
    {
     "data": {
      "text/plain": [
       "0.6117905851297845"
      ]
     },
     "execution_count": 144,
     "metadata": {},
     "output_type": "execute_result"
    }
   ],
   "source": [
    "mt.recall_score(y_test, y_pred)"
   ]
  },
  {
   "cell_type": "code",
   "execution_count": 178,
   "id": "f1f61ad9",
   "metadata": {},
   "outputs": [
    {
     "data": {
      "text/plain": [
       "0.6352622140576477"
      ]
     },
     "execution_count": 178,
     "metadata": {},
     "output_type": "execute_result"
    }
   ],
   "source": [
    "mt.f1_score(y_test, y_pred)"
   ]
  },
  {
   "cell_type": "code",
   "execution_count": 69,
   "id": "16242df3",
   "metadata": {},
   "outputs": [
    {
     "name": "stdout",
     "output_type": "stream",
     "text": [
      "              precision    recall  f1-score   support\n",
      "\n",
      "           0       0.80      0.82      0.81     41087\n",
      "           1       0.76      0.73      0.74     31428\n",
      "\n",
      "    accuracy                           0.78     72515\n",
      "   macro avg       0.78      0.78      0.78     72515\n",
      "weighted avg       0.78      0.78      0.78     72515\n",
      "\n",
      "Sobre os dados de treino\n"
     ]
    }
   ],
   "source": [
    "#print(classification_report(y_training, y_pred))\n",
    "#print('Sobre os dados de treino')"
   ]
  },
  {
   "cell_type": "code",
   "execution_count": 81,
   "id": "2bc7e021",
   "metadata": {},
   "outputs": [
    {
     "name": "stdout",
     "output_type": "stream",
     "text": [
      "              precision    recall  f1-score   support\n",
      "\n",
      "           0       0.70      0.72      0.71     14528\n",
      "           1       0.63      0.60      0.62     11365\n",
      "\n",
      "    accuracy                           0.67     25893\n",
      "   macro avg       0.66      0.66      0.66     25893\n",
      "weighted avg       0.67      0.67      0.67     25893\n",
      "\n",
      "Sobre os dados de Validação\n"
     ]
    }
   ],
   "source": [
    "#print(classification_report(y_test,y_pred ))\n",
    "#print('Sobre os dados de Validação')"
   ]
  },
  {
   "cell_type": "code",
   "execution_count": 91,
   "id": "5cf7a5f5",
   "metadata": {},
   "outputs": [
    {
     "name": "stdout",
     "output_type": "stream",
     "text": [
      "              precision    recall  f1-score   support\n",
      "\n",
      "           0       0.71      0.73      0.72     17610\n",
      "           1       0.63      0.60      0.62     13469\n",
      "\n",
      "    accuracy                           0.68     31079\n",
      "   macro avg       0.67      0.67      0.67     31079\n",
      "weighted avg       0.67      0.68      0.67     31079\n",
      "\n",
      "Sobre os dados de test\n"
     ]
    }
   ],
   "source": [
    "#print(classification_report(y_validation,y_pred ))\n",
    "#print('Sobre os dados de test')"
   ]
  },
  {
   "cell_type": "markdown",
   "id": "986e8953",
   "metadata": {},
   "source": [
    "# Elbow + Cross Validation"
   ]
  },
  {
   "cell_type": "code",
   "execution_count": 177,
   "id": "fe9a0c61",
   "metadata": {},
   "outputs": [
    {
     "data": {
      "image/png": "[encoded data removed]",
      "text/plain": [
       "<Figure size 1000x600 with 1 Axes>"
      ]
     },
     "metadata": {},
     "output_type": "display_data"
    },
    {
     "name": "stdout",
     "output_type": "stream",
     "text": [
      "O melhor valor de k é 1 com acurácia média de 0.6640\n"
     ]
    }
   ],
   "source": [
    "import numpy as np\n",
    "import matplotlib.pyplot as plt\n",
    "from sklearn.neighbors import KNeighborsClassifier\n",
    "from sklearn.model_selection import cross_val_score\n",
    "from scipy import stats\n",
    "import warnings\n",
    "\n",
    "# Remover aviso específico\n",
    "warnings.filterwarnings(\"ignore\", category=FutureWarning, message=\".*default value of `keepdims` will become False.*\")\n",
    "\n",
    "# Transformar y_training em um array unidimensional\n",
    "y_training_1d = y_training.ravel()\n",
    "\n",
    "# Definindo a lista de valores de k a serem testados\n",
    "k_values = np.arange(1, 12, 1)\n",
    "accuracy = []\n",
    "\n",
    "# Loop através dos valores de k\n",
    "for k in k_values: \n",
    "    knn_classifier = KNeighborsClassifier(n_neighbors=k)\n",
    "    # Avaliação do modelo usando validação cruzada\n",
    "    scores = cross_val_score(knn_classifier, X_trainingC, y_training_1d, cv=5, scoring='accuracy')\n",
    "    acc = scores.mean()\n",
    "    accuracy.append(acc)\n",
    "\n",
    "# Plotando os resultados\n",
    "plt.figure(figsize=(10, 6))\n",
    "plt.plot(k_values, accuracy, marker='o')\n",
    "plt.title('Elbow Method for KNN')\n",
    "plt.xlabel('Number of Neighbors k')\n",
    "plt.ylabel('Cross-Validated Accuracy')\n",
    "plt.grid(True)\n",
    "plt.show()\n",
    "\n",
    "# Encontrar o melhor valor de k\n",
    "best_k = k_values[np.argmax(accuracy)]\n",
    "print(f\"O melhor valor de k é {best_k} com acurácia média de {max(accuracy):.4f}\")"
   ]
  },
  {
   "cell_type": "markdown",
   "id": "7e86dc49",
   "metadata": {},
   "source": []
  }
 ],
 "metadata": {
  "kernelspec": {
   "display_name": "Python 3 (ipykernel)",
   "language": "python",
   "name": "python3"
  },
  "language_info": {
   "codemirror_mode": {
    "name": "ipython",
    "version": 3
   },
   "file_extension": ".py",
   "mimetype": "text/x-python",
   "name": "python",
   "nbconvert_exporter": "python",
   "pygments_lexer": "ipython3",
   "version": "3.9.13"
  }
 },
 "nbformat": 4,
 "nbformat_minor": 5
}
