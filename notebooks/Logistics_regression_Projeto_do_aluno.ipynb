{
 "cells": [
  {
   "cell_type": "markdown",
   "metadata": {
    "id": "Uwoe2stSyQsC"
   },
   "source": [
    "##Logistic Regression"
   ]
  },
  {
   "cell_type": "code",
   "execution_count": 1,
   "metadata": {
    "executionInfo": {
     "elapsed": 5879,
     "status": "ok",
     "timestamp": 1717296360343,
     "user": {
      "displayName": "Luis Felippe P. F",
      "userId": "09813552275887509158"
     },
     "user_tz": 180
    },
    "id": "vH6KgZoLyOxI"
   },
   "outputs": [],
   "source": [
    "from sklearn.linear_model import LogisticRegression\n",
    "from sklearn import metrics as mt\n",
    "import pandas as pd"
   ]
  },
  {
   "cell_type": "code",
   "execution_count": 2,
   "metadata": {
    "executionInfo": {
     "elapsed": 3319,
     "status": "ok",
     "timestamp": 1717296364749,
     "user": {
      "displayName": "Luis Felippe P. F",
      "userId": "09813552275887509158"
     },
     "user_tz": 180
    },
    "id": "foi7jk-szhSh"
   },
   "outputs": [],
   "source": [
    "X_training = pd.read_csv('/content/X_training.csv')\n",
    "y_training = pd.read_csv('/content/y_training.csv')\n",
    "X_test = pd.read_csv('/content/X_test.csv')\n",
    "y_test = pd.read_csv('/content/y_test.csv')\n",
    "X_validation = pd.read_csv('/content/X_validation.csv')\n",
    "y_validation = pd.read_csv('/content/y_validation.csv')"
   ]
  },
  {
   "cell_type": "code",
   "execution_count": 6,
   "metadata": {
    "executionInfo": {
     "elapsed": 398,
     "status": "ok",
     "timestamp": 1717296309529,
     "user": {
      "displayName": "Luis Felippe P. F",
      "userId": "09813552275887509158"
     },
     "user_tz": 180
    },
    "id": "EQvYCGZI1cmn"
   },
   "outputs": [],
   "source": []
  },
  {
   "cell_type": "markdown",
   "metadata": {
    "id": "9K1NvF-u2nKc"
   },
   "source": [
    "##Metricas para os dados de treino"
   ]
  },
  {
   "cell_type": "code",
   "execution_count": 26,
   "metadata": {
    "colab": {
     "base_uri": "https://localhost:8080/"
    },
    "executionInfo": {
     "elapsed": 493,
     "status": "ok",
     "timestamp": 1717297337634,
     "user": {
      "displayName": "Luis Felippe P. F",
      "userId": "09813552275887509158"
     },
     "user_tz": 180
    },
    "id": "Cy_0coMjyQR9",
    "outputId": "e8bc6713-d5c4-4a32-a57f-4db93293d93d"
   },
   "outputs": [
    {
     "name": "stderr",
     "output_type": "stream",
     "text": [
      "/usr/local/lib/python3.10/dist-packages/sklearn/utils/validation.py:1143: DataConversionWarning: A column-vector y was passed when a 1d array was expected. Please change the shape of y to (n_samples, ), for example using ravel().\n",
      "  y = column_or_1d(y, warn=True)\n"
     ]
    }
   ],
   "source": [
    "\n",
    "model = LogisticRegression()\n",
    "model.fit(X_training, y_training)\n",
    "\n",
    "# predictions\n",
    "yhat_train = model.predict(X_training)"
   ]
  },
  {
   "cell_type": "code",
   "execution_count": 27,
   "metadata": {
    "colab": {
     "base_uri": "https://localhost:8080/"
    },
    "executionInfo": {
     "elapsed": 312,
     "status": "ok",
     "timestamp": 1717297339294,
     "user": {
      "displayName": "Luis Felippe P. F",
      "userId": "09813552275887509158"
     },
     "user_tz": 180
    },
    "id": "jdF8-r0PyQPW",
    "outputId": "d67a1b53-2574-4a46-8112-6305dc853eef"
   },
   "outputs": [
    {
     "name": "stdout",
     "output_type": "stream",
     "text": [
      "O valor da acuracia é: 0.5666000137902503\n"
     ]
    }
   ],
   "source": [
    "acc_train = mt.accuracy_score(y_training, yhat_train)\n",
    "print('O valor da acuracia é: {:}'.format(acc_train) )"
   ]
  },
  {
   "cell_type": "code",
   "execution_count": 28,
   "metadata": {
    "colab": {
     "base_uri": "https://localhost:8080/"
    },
    "executionInfo": {
     "elapsed": 468,
     "status": "ok",
     "timestamp": 1717297340605,
     "user": {
      "displayName": "Luis Felippe P. F",
      "userId": "09813552275887509158"
     },
     "user_tz": 180
    },
    "id": "pmi-ef1KyQMm",
    "outputId": "85359769-38e1-49ef-cd1a-595e19cc7cd9"
   },
   "outputs": [
    {
     "name": "stdout",
     "output_type": "stream",
     "text": [
      "O valor da precision é: 0.0\n"
     ]
    },
    {
     "name": "stderr",
     "output_type": "stream",
     "text": [
      "/usr/local/lib/python3.10/dist-packages/sklearn/metrics/_classification.py:1344: UndefinedMetricWarning: Precision is ill-defined and being set to 0.0 due to no predicted samples. Use `zero_division` parameter to control this behavior.\n",
      "  _warn_prf(average, modifier, msg_start, len(result))\n"
     ]
    }
   ],
   "source": [
    "precision_train = mt.precision_score(y_training, yhat_train)\n",
    "print('O valor da precision é: {:}'.format(precision_train) )"
   ]
  },
  {
   "cell_type": "code",
   "execution_count": 29,
   "metadata": {
    "colab": {
     "base_uri": "https://localhost:8080/"
    },
    "executionInfo": {
     "elapsed": 349,
     "status": "ok",
     "timestamp": 1717297341343,
     "user": {
      "displayName": "Luis Felippe P. F",
      "userId": "09813552275887509158"
     },
     "user_tz": 180
    },
    "id": "KQEbAPRlyQJY",
    "outputId": "eb6e883a-f1a5-4729-bb17-2ecc39742328"
   },
   "outputs": [
    {
     "name": "stdout",
     "output_type": "stream",
     "text": [
      "O valor da recall é: 0.0\n"
     ]
    }
   ],
   "source": [
    "recall_train = mt.recall_score(y_training, yhat_train)\n",
    "print('O valor da recall é: {:}'.format(recall_train) )"
   ]
  },
  {
   "cell_type": "code",
   "execution_count": 30,
   "metadata": {
    "colab": {
     "base_uri": "https://localhost:8080/"
    },
    "executionInfo": {
     "elapsed": 263,
     "status": "ok",
     "timestamp": 1717297343503,
     "user": {
      "displayName": "Luis Felippe P. F",
      "userId": "09813552275887509158"
     },
     "user_tz": 180
    },
    "id": "-br1J2-2yQGh",
    "outputId": "7c78024e-5867-46f3-f31b-7bc72b9c7c07"
   },
   "outputs": [
    {
     "name": "stdout",
     "output_type": "stream",
     "text": [
      "O valor do F1 é: 0.0\n"
     ]
    }
   ],
   "source": [
    "f1_train = mt.f1_score(y_training, yhat_train)\n",
    "print('O valor do F1 é: {:}'.format(f1_train) )"
   ]
  },
  {
   "cell_type": "markdown",
   "metadata": {
    "id": "cAvakbjA3QrJ"
   },
   "source": [
    "##Metricas para os dados de validação"
   ]
  },
  {
   "cell_type": "code",
   "execution_count": 31,
   "metadata": {
    "colab": {
     "base_uri": "https://localhost:8080/"
    },
    "executionInfo": {
     "elapsed": 356,
     "status": "ok",
     "timestamp": 1717297346040,
     "user": {
      "displayName": "Luis Felippe P. F",
      "userId": "09813552275887509158"
     },
     "user_tz": 180
    },
    "id": "7slHKJbryQDc",
    "outputId": "79c90718-29a6-4919-f90a-72f2d2e77eda"
   },
   "outputs": [
    {
     "name": "stderr",
     "output_type": "stream",
     "text": [
      "/usr/local/lib/python3.10/dist-packages/sklearn/utils/validation.py:1143: DataConversionWarning: A column-vector y was passed when a 1d array was expected. Please change the shape of y to (n_samples, ), for example using ravel().\n",
      "  y = column_or_1d(y, warn=True)\n"
     ]
    }
   ],
   "source": [
    "\n",
    "model = LogisticRegression()\n",
    "model.fit(X_training, y_training)\n",
    "\n",
    "# predictions\n",
    "yhat_val = model.predict(X_validation)"
   ]
  },
  {
   "cell_type": "code",
   "execution_count": 32,
   "metadata": {
    "colab": {
     "base_uri": "https://localhost:8080/"
    },
    "executionInfo": {
     "elapsed": 7,
     "status": "ok",
     "timestamp": 1717297347550,
     "user": {
      "displayName": "Luis Felippe P. F",
      "userId": "09813552275887509158"
     },
     "user_tz": 180
    },
    "id": "5EQvV4rw30HT",
    "outputId": "f7ad6b9b-36b5-41fd-eb5a-0f38339ce56b"
   },
   "outputs": [
    {
     "name": "stdout",
     "output_type": "stream",
     "text": [
      "O valor da acuracia é: 0.5666205476366678\n"
     ]
    }
   ],
   "source": [
    "acc_val = mt.accuracy_score(y_validation, yhat_val )\n",
    "print('O valor da acuracia é: {:}'.format(acc_val) )"
   ]
  },
  {
   "cell_type": "code",
   "execution_count": 33,
   "metadata": {
    "colab": {
     "base_uri": "https://localhost:8080/"
    },
    "executionInfo": {
     "elapsed": 7,
     "status": "ok",
     "timestamp": 1717297348797,
     "user": {
      "displayName": "Luis Felippe P. F",
      "userId": "09813552275887509158"
     },
     "user_tz": 180
    },
    "id": "qn1kOxSj30Es",
    "outputId": "b82d4a48-e5e8-4267-dcbe-dcea17b1d2de"
   },
   "outputs": [
    {
     "name": "stdout",
     "output_type": "stream",
     "text": [
      "O valor da precision é: 0.0\n"
     ]
    },
    {
     "name": "stderr",
     "output_type": "stream",
     "text": [
      "/usr/local/lib/python3.10/dist-packages/sklearn/metrics/_classification.py:1344: UndefinedMetricWarning: Precision is ill-defined and being set to 0.0 due to no predicted samples. Use `zero_division` parameter to control this behavior.\n",
      "  _warn_prf(average, modifier, msg_start, len(result))\n"
     ]
    }
   ],
   "source": [
    "precision_val = mt.precision_score(y_validation, yhat_val )\n",
    "print('O valor da precision é: {:}'.format(precision_val) )"
   ]
  },
  {
   "cell_type": "code",
   "execution_count": 34,
   "metadata": {
    "colab": {
     "base_uri": "https://localhost:8080/"
    },
    "executionInfo": {
     "elapsed": 3,
     "status": "ok",
     "timestamp": 1717297349761,
     "user": {
      "displayName": "Luis Felippe P. F",
      "userId": "09813552275887509158"
     },
     "user_tz": 180
    },
    "id": "i0Ir0lF130CW",
    "outputId": "c91d19f4-31f2-4b03-a41e-4a26af61b2a5"
   },
   "outputs": [
    {
     "name": "stdout",
     "output_type": "stream",
     "text": [
      "O valor da recall é: 0.0\n"
     ]
    }
   ],
   "source": [
    "recall_val = mt.recall_score(y_validation, yhat_val )\n",
    "print('O valor da recall é: {:}'.format(recall_val) )"
   ]
  },
  {
   "cell_type": "code",
   "execution_count": 35,
   "metadata": {
    "colab": {
     "base_uri": "https://localhost:8080/"
    },
    "executionInfo": {
     "elapsed": 3,
     "status": "ok",
     "timestamp": 1717297351057,
     "user": {
      "displayName": "Luis Felippe P. F",
      "userId": "09813552275887509158"
     },
     "user_tz": 180
    },
    "id": "DTQsHn1S3z_f",
    "outputId": "ae1aaf43-4f1d-4b5f-c63f-c76fd7cd9346"
   },
   "outputs": [
    {
     "name": "stdout",
     "output_type": "stream",
     "text": [
      "O valor do F1 é: 0.0\n"
     ]
    }
   ],
   "source": [
    "f1_val = mt.f1_score(y_validation, yhat_val )\n",
    "print('O valor do F1 é: {:}'.format(f1_val) )"
   ]
  },
  {
   "cell_type": "markdown",
   "metadata": {
    "id": "ZmNmyPGP409l"
   },
   "source": [
    "##Metricas para os dados de teste"
   ]
  },
  {
   "cell_type": "code",
   "execution_count": 36,
   "metadata": {
    "colab": {
     "base_uri": "https://localhost:8080/"
    },
    "executionInfo": {
     "elapsed": 288,
     "status": "ok",
     "timestamp": 1717297353601,
     "user": {
      "displayName": "Luis Felippe P. F",
      "userId": "09813552275887509158"
     },
     "user_tz": 180
    },
    "id": "Rhe0xaIF3z6S",
    "outputId": "dd502b49-1836-44b3-8ac3-220bc1dbcb3f"
   },
   "outputs": [
    {
     "name": "stderr",
     "output_type": "stream",
     "text": [
      "/usr/local/lib/python3.10/dist-packages/sklearn/utils/validation.py:1143: DataConversionWarning: A column-vector y was passed when a 1d array was expected. Please change the shape of y to (n_samples, ), for example using ravel().\n",
      "  y = column_or_1d(y, warn=True)\n"
     ]
    }
   ],
   "source": [
    "\n",
    "model = LogisticRegression()\n",
    "model.fit(X_training, y_training)\n",
    "\n",
    "# predictions\n",
    "yhat_test = model.predict(X_test)"
   ]
  },
  {
   "cell_type": "code",
   "execution_count": 37,
   "metadata": {
    "colab": {
     "base_uri": "https://localhost:8080/"
    },
    "executionInfo": {
     "elapsed": 318,
     "status": "ok",
     "timestamp": 1717297355731,
     "user": {
      "displayName": "Luis Felippe P. F",
      "userId": "09813552275887509158"
     },
     "user_tz": 180
    },
    "id": "DWgBLr4-3z3e",
    "outputId": "01a474b7-59f1-450e-9bf9-6d14fde29797"
   },
   "outputs": [
    {
     "name": "stdout",
     "output_type": "stream",
     "text": [
      "O valor da acuracia é: 0.561078283706021\n"
     ]
    }
   ],
   "source": [
    "acc_test = mt.accuracy_score(y_test, yhat_test )\n",
    "print('O valor da acuracia é: {:}'.format(acc_test) )"
   ]
  },
  {
   "cell_type": "code",
   "execution_count": 38,
   "metadata": {
    "colab": {
     "base_uri": "https://localhost:8080/"
    },
    "executionInfo": {
     "elapsed": 319,
     "status": "ok",
     "timestamp": 1717297687122,
     "user": {
      "displayName": "Luis Felippe P. F",
      "userId": "09813552275887509158"
     },
     "user_tz": 180
    },
    "id": "rbug_dN0yQAx",
    "outputId": "195ccd20-4683-45ed-e15a-13abe81b3aaa"
   },
   "outputs": [
    {
     "name": "stdout",
     "output_type": "stream",
     "text": [
      "O valor da Precision é: 0.0\n"
     ]
    },
    {
     "name": "stderr",
     "output_type": "stream",
     "text": [
      "/usr/local/lib/python3.10/dist-packages/sklearn/metrics/_classification.py:1344: UndefinedMetricWarning: Precision is ill-defined and being set to 0.0 due to no predicted samples. Use `zero_division` parameter to control this behavior.\n",
      "  _warn_prf(average, modifier, msg_start, len(result))\n"
     ]
    }
   ],
   "source": [
    "precision_test = mt.precision_score(y_test, yhat_test )\n",
    "print('O valor da Precision é: {:}'.format(precision_test) )"
   ]
  },
  {
   "cell_type": "code",
   "execution_count": 39,
   "metadata": {
    "colab": {
     "base_uri": "https://localhost:8080/"
    },
    "executionInfo": {
     "elapsed": 256,
     "status": "ok",
     "timestamp": 1717297715010,
     "user": {
      "displayName": "Luis Felippe P. F",
      "userId": "09813552275887509158"
     },
     "user_tz": 180
    },
    "id": "uQgbb2ZSyP96",
    "outputId": "546a55fa-1fca-45eb-dcb5-cdb3071c7b1c"
   },
   "outputs": [
    {
     "name": "stdout",
     "output_type": "stream",
     "text": [
      "O valor da Recall é: 0.0\n"
     ]
    }
   ],
   "source": [
    "recall_test = mt.recall_score(y_test, yhat_test )\n",
    "print('O valor da Recall é: {:}'.format(recall_test) )"
   ]
  },
  {
   "cell_type": "code",
   "execution_count": 40,
   "metadata": {
    "colab": {
     "base_uri": "https://localhost:8080/"
    },
    "executionInfo": {
     "elapsed": 16,
     "status": "ok",
     "timestamp": 1717297758114,
     "user": {
      "displayName": "Luis Felippe P. F",
      "userId": "09813552275887509158"
     },
     "user_tz": 180
    },
    "id": "tC2_2Usi6rRE",
    "outputId": "05345953-5abe-4fed-e12f-8071d35c32f0"
   },
   "outputs": [
    {
     "name": "stdout",
     "output_type": "stream",
     "text": [
      "O valor do F1 score é: 0.0\n"
     ]
    }
   ],
   "source": [
    "F1_test = mt.f1_score(y_test, yhat_test )\n",
    "print('O valor do F1 score é: {:}'.format(F1_test) )"
   ]
  },
  {
   "cell_type": "code",
   "execution_count": null,
   "metadata": {
    "id": "7VsU4QH86rOc"
   },
   "outputs": [],
   "source": []
  },
  {
   "cell_type": "code",
   "execution_count": null,
   "metadata": {
    "id": "zqv9O0J16rK1"
   },
   "outputs": [],
   "source": []
  }
 ],
 "metadata": {
  "colab": {
   "authorship_tag": "ABX9TyMATl0NGOe9E1xwQvuhWJgA",
   "provenance": []
  },
  "kernelspec": {
   "display_name": "Python 3 (ipykernel)",
   "language": "python",
   "name": "python3"
  },
  "language_info": {
   "codemirror_mode": {
    "name": "ipython",
    "version": 3
   },
   "file_extension": ".py",
   "mimetype": "text/x-python",
   "name": "python",
   "nbconvert_exporter": "python",
   "pygments_lexer": "ipython3",
   "version": "3.9.13"
  }
 },
 "nbformat": 4,
 "nbformat_minor": 1
}
